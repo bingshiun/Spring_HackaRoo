{
  "nbformat": 4,
  "nbformat_minor": 0,
  "metadata": {
    "colab": {
      "name": "survey.ipynb",
      "provenance": [],
      "authorship_tag": "ABX9TyOfCb/lwJyXCbxl01Sed3yV",
      "include_colab_link": true
    },
    "kernelspec": {
      "name": "python3",
      "display_name": "Python 3"
    }
  },
  "cells": [
    {
      "cell_type": "markdown",
      "metadata": {
        "id": "view-in-github",
        "colab_type": "text"
      },
      "source": [
        "<a href=\"https://colab.research.google.com/github/bingshiun/Spring_HackaRoo/blob/master/survey.ipynb\" target=\"_parent\"><img src=\"https://colab.research.google.com/assets/colab-badge.svg\" alt=\"Open In Colab\"/></a>"
      ]
    },
    {
      "cell_type": "code",
      "metadata": {
        "id": "MxYhgbcKkhc5",
        "colab_type": "code",
        "colab": {}
      },
      "source": [
        "import sqlite3\n",
        "from google.colab import drive"
      ],
      "execution_count": 0,
      "outputs": []
    },
    {
      "cell_type": "code",
      "metadata": {
        "id": "mx-uyDILq-WF",
        "colab_type": "code",
        "colab": {
          "base_uri": "https://localhost:8080/",
          "height": 51
        },
        "outputId": "4acf0af8-dd51-439a-be1a-f85a759dab58"
      },
      "source": [
        "conn  =  sqlite3.connect ( 'my.db' )\n",
        "print(\"Opened database successfully\");\n",
        "\n",
        "cursor  =  conn.cursor ()\n",
        "\n",
        "conn.execute('''\n",
        "CREATE TABLE IF NOT EXISTS my(swerve integer, \n",
        "                      black text, \n",
        "                      bumpy text, \n",
        "                      repairs text\n",
        "                      holes text);''')\n",
        "\n",
        "conn.commit()\n",
        "\n",
        "print(\"Table created successfully\")"
      ],
      "execution_count": 16,
      "outputs": [
        {
          "output_type": "stream",
          "text": [
            "Opened database successfully\n",
            "Table created successfully\n"
          ],
          "name": "stdout"
        }
      ]
    },
    {
      "cell_type": "markdown",
      "metadata": {
        "id": "QvRNq_K07h6s",
        "colab_type": "text"
      },
      "source": [
        "Created the questionaire and able to store the data in database"
      ]
    },
    {
      "cell_type": "code",
      "metadata": {
        "id": "gfC3Lt8ptkrl",
        "colab_type": "code",
        "colab": {
          "base_uri": "https://localhost:8080/",
          "height": 333
        },
        "outputId": "e8ee3717-9f6f-4a02-fe0e-5aa174c03a8c"
      },
      "source": [
        "swerve = input(\"a. Do you have to swerve in order to miss a potential tire blowout? \")\n",
        "script = \"INSERT INTO my (swerve) VALUES (?)\"\n",
        "#cursor.execute(script,(swerve))\n",
        "print(script)\n",
        "black = input(\"b.\tAre your roads filled with black tar lines for temporary repairs? \")\n",
        "script = \"INSERT INTO my (black) VALUES (?)\"\n",
        "#cursor.execute(exp_ID,(black))\n",
        "bumpy = input(\"c.\tIs your daily commute typically bumpy/ require you to drive slower? \")\n",
        "script = \"INSERT INTO my (bumpy) VALUES (?)\"\n",
        "#conn.execute(script,(bumpy))\n",
        "repairs = input(\"d.\tHas your commute ever led you to make repairs to your vehicle? \")\n",
        "script = \"INSERT INTO my (repairs) VALUES (?, ?)\"\n",
        "#conn.execute(script,(repairs))\n",
        "holes = input(\"e.\tIs your commute filled with construction zones and potholes? \")\n",
        "script = \"INSERT INTO my (holes) VALUES (?)\"\n",
        "conn.execute(script,(swerve, black, bumpy, repairs,holes))\n",
        "conn.commit()\n",
        "print ( 'Data entered successfully.' )"
      ],
      "execution_count": 27,
      "outputs": [
        {
          "output_type": "stream",
          "text": [
            "a. Do you have to swerve in order to miss a potential tire blowout? 1\n",
            "INSERT INTO my (swerve) VALUES (?)\n",
            "b.\tAre your roads filled with black tar lines for temporary repairs? no\n",
            "c.\tIs your daily commute typically bumpy/ require you to drive slower? no\n",
            "d.\tHas your commute ever led you to make repairs to your vehicle? no\n",
            "e.\tIs your commute filled with construction zones and potholes? no\n"
          ],
          "name": "stdout"
        },
        {
          "output_type": "error",
          "ename": "OperationalError",
          "evalue": "ignored",
          "traceback": [
            "\u001b[0;31m---------------------------------------------------------------------------\u001b[0m",
            "\u001b[0;31mOperationalError\u001b[0m                          Traceback (most recent call last)",
            "\u001b[0;32m<ipython-input-27-226650b96064>\u001b[0m in \u001b[0;36m<module>\u001b[0;34m()\u001b[0m\n\u001b[1;32m     14\u001b[0m \u001b[0mholes\u001b[0m \u001b[0;34m=\u001b[0m \u001b[0minput\u001b[0m\u001b[0;34m(\u001b[0m\u001b[0;34m\"e.       Is your commute filled with construction zones and potholes? \"\u001b[0m\u001b[0;34m)\u001b[0m\u001b[0;34m\u001b[0m\u001b[0;34m\u001b[0m\u001b[0m\n\u001b[1;32m     15\u001b[0m \u001b[0mscript\u001b[0m \u001b[0;34m=\u001b[0m \u001b[0;34m\"INSERT INTO my (holes) VALUES (?)\"\u001b[0m\u001b[0;34m\u001b[0m\u001b[0;34m\u001b[0m\u001b[0m\n\u001b[0;32m---> 16\u001b[0;31m \u001b[0mconn\u001b[0m\u001b[0;34m.\u001b[0m\u001b[0mexecute\u001b[0m\u001b[0;34m(\u001b[0m\u001b[0mscript\u001b[0m\u001b[0;34m,\u001b[0m\u001b[0;34m(\u001b[0m\u001b[0mswerve\u001b[0m\u001b[0;34m,\u001b[0m \u001b[0mblack\u001b[0m\u001b[0;34m,\u001b[0m \u001b[0mbumpy\u001b[0m\u001b[0;34m,\u001b[0m \u001b[0mrepairs\u001b[0m\u001b[0;34m,\u001b[0m\u001b[0mholes\u001b[0m\u001b[0;34m)\u001b[0m\u001b[0;34m)\u001b[0m\u001b[0;34m\u001b[0m\u001b[0;34m\u001b[0m\u001b[0m\n\u001b[0m\u001b[1;32m     17\u001b[0m \u001b[0mconn\u001b[0m\u001b[0;34m.\u001b[0m\u001b[0mcommit\u001b[0m\u001b[0;34m(\u001b[0m\u001b[0;34m)\u001b[0m\u001b[0;34m\u001b[0m\u001b[0;34m\u001b[0m\u001b[0m\n\u001b[1;32m     18\u001b[0m \u001b[0mprint\u001b[0m \u001b[0;34m(\u001b[0m \u001b[0;34m'Data entered successfully.'\u001b[0m \u001b[0;34m)\u001b[0m\u001b[0;34m\u001b[0m\u001b[0;34m\u001b[0m\u001b[0m\n",
            "\u001b[0;31mOperationalError\u001b[0m: table my has no column named holes"
          ]
        }
      ]
    }
  ]
}