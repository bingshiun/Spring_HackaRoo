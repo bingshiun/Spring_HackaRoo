{
  "nbformat": 4,
  "nbformat_minor": 0,
  "metadata": {
    "colab": {
      "name": "HACK_RO0_SP.ipynb",
      "provenance": [],
      "collapsed_sections": [],
      "mount_file_id": "19FGexi02Pt4zbhMuIRT1f23-MOek-Xzh",
      "authorship_tag": "ABX9TyNFw1XwEjYq6ri66eTmvysK",
      "include_colab_link": true
    },
    "kernelspec": {
      "name": "python3",
      "display_name": "Python 3"
    }
  },
  "cells": [
    {
      "cell_type": "markdown",
      "metadata": {
        "id": "view-in-github",
        "colab_type": "text"
      },
      "source": [
        "<a href=\"https://colab.research.google.com/github/bingshiun/Spring_HackaRoo/blob/master/HACK_RO0_SP.ipynb\" target=\"_parent\"><img src=\"https://colab.research.google.com/assets/colab-badge.svg\" alt=\"Open In Colab\"/></a>"
      ]
    },
    {
      "cell_type": "code",
      "metadata": {
        "id": "49dID7j3DVI9",
        "colab_type": "code",
        "colab": {}
      },
      "source": [
        "from google.colab import drive\n",
        "import pandas as pd\n",
        "import numpy as np\n",
        "from sklearn.linear_model import LogisticRegression\n",
        "from sklearn.preprocessing import StandardScaler\n",
        "from sklearn.model_selection import train_test_split"
      ],
      "execution_count": 0,
      "outputs": []
    },
    {
      "cell_type": "code",
      "metadata": {
        "id": "_s4PPTZ_KCzV",
        "colab_type": "code",
        "outputId": "d6e07241-8150-4192-9fa9-627f215b9553",
        "colab": {
          "base_uri": "https://localhost:8080/",
          "height": 34
        }
      },
      "source": [
        "drive.mount('/content/drive')"
      ],
      "execution_count": 0,
      "outputs": [
        {
          "output_type": "stream",
          "text": [
            "Drive already mounted at /content/drive; to attempt to forcibly remount, call drive.mount(\"/content/drive\", force_remount=True).\n"
          ],
          "name": "stdout"
        }
      ]
    },
    {
      "cell_type": "code",
      "metadata": {
        "id": "_x_Ncxu1Kg4y",
        "colab_type": "code",
        "outputId": "dcb378a1-c529-4ed1-a8dc-de226fd2ca80",
        "colab": {
          "base_uri": "https://localhost:8080/",
          "height": 402
        }
      },
      "source": [
        "path = \"/content/drive/My Drive/data/road.csv\"\n",
        "df = pd.read_csv(path)\n",
        "df"
      ],
      "execution_count": 0,
      "outputs": [
        {
          "output_type": "execute_result",
          "data": {
            "text/html": [
              "<div>\n",
              "<style scoped>\n",
              "    .dataframe tbody tr th:only-of-type {\n",
              "        vertical-align: middle;\n",
              "    }\n",
              "\n",
              "    .dataframe tbody tr th {\n",
              "        vertical-align: top;\n",
              "    }\n",
              "\n",
              "    .dataframe thead th {\n",
              "        text-align: right;\n",
              "    }\n",
              "</style>\n",
              "<table border=\"1\" class=\"dataframe\">\n",
              "  <thead>\n",
              "    <tr style=\"text-align: right;\">\n",
              "      <th></th>\n",
              "      <th>OBJECTID</th>\n",
              "      <th>COUNTYL</th>\n",
              "      <th>PASER</th>\n",
              "    </tr>\n",
              "  </thead>\n",
              "  <tbody>\n",
              "    <tr>\n",
              "      <th>0</th>\n",
              "      <td>4828</td>\n",
              "      <td>125</td>\n",
              "      <td>3</td>\n",
              "    </tr>\n",
              "    <tr>\n",
              "      <th>1</th>\n",
              "      <td>3463</td>\n",
              "      <td>125</td>\n",
              "      <td>3</td>\n",
              "    </tr>\n",
              "    <tr>\n",
              "      <th>2</th>\n",
              "      <td>1595</td>\n",
              "      <td>125</td>\n",
              "      <td>5</td>\n",
              "    </tr>\n",
              "    <tr>\n",
              "      <th>3</th>\n",
              "      <td>3108</td>\n",
              "      <td>125</td>\n",
              "      <td>3</td>\n",
              "    </tr>\n",
              "    <tr>\n",
              "      <th>4</th>\n",
              "      <td>3470</td>\n",
              "      <td>125</td>\n",
              "      <td>3</td>\n",
              "    </tr>\n",
              "    <tr>\n",
              "      <th>...</th>\n",
              "      <td>...</td>\n",
              "      <td>...</td>\n",
              "      <td>...</td>\n",
              "    </tr>\n",
              "    <tr>\n",
              "      <th>77138</th>\n",
              "      <td>209665</td>\n",
              "      <td>163</td>\n",
              "      <td>7</td>\n",
              "    </tr>\n",
              "    <tr>\n",
              "      <th>77139</th>\n",
              "      <td>208344</td>\n",
              "      <td>163</td>\n",
              "      <td>7</td>\n",
              "    </tr>\n",
              "    <tr>\n",
              "      <th>77140</th>\n",
              "      <td>209006</td>\n",
              "      <td>99</td>\n",
              "      <td>9</td>\n",
              "    </tr>\n",
              "    <tr>\n",
              "      <th>77141</th>\n",
              "      <td>208954</td>\n",
              "      <td>163</td>\n",
              "      <td>6</td>\n",
              "    </tr>\n",
              "    <tr>\n",
              "      <th>77142</th>\n",
              "      <td>208734</td>\n",
              "      <td>125</td>\n",
              "      <td>8</td>\n",
              "    </tr>\n",
              "  </tbody>\n",
              "</table>\n",
              "<p>77143 rows × 3 columns</p>\n",
              "</div>"
            ],
            "text/plain": [
              "       OBJECTID  COUNTYL  PASER\n",
              "0          4828      125      3\n",
              "1          3463      125      3\n",
              "2          1595      125      5\n",
              "3          3108      125      3\n",
              "4          3470      125      3\n",
              "...         ...      ...    ...\n",
              "77138    209665      163      7\n",
              "77139    208344      163      7\n",
              "77140    209006       99      9\n",
              "77141    208954      163      6\n",
              "77142    208734      125      8\n",
              "\n",
              "[77143 rows x 3 columns]"
            ]
          },
          "metadata": {
            "tags": []
          },
          "execution_count": 3
        }
      ]
    },
    {
      "cell_type": "markdown",
      "metadata": {
        "id": "CFRw2EhwESXY",
        "colab_type": "text"
      },
      "source": [
        "categorical Y"
      ]
    },
    {
      "cell_type": "code",
      "metadata": {
        "id": "aWM_L1RmZsCA",
        "colab_type": "code",
        "colab": {}
      },
      "source": [
        "def func(x):\n",
        "    if 0 < x <= 4:\n",
        "        return '1'\n",
        "    elif 5 <= x <= 7:\n",
        "        return '2'\n",
        "    elif 8 <= x <=10:\n",
        "        return '3'\n",
        "\n",
        "df['con'] = df['PASER'].apply(func)"
      ],
      "execution_count": 0,
      "outputs": []
    },
    {
      "cell_type": "markdown",
      "metadata": {
        "id": "WXRElPcuDheM",
        "colab_type": "text"
      },
      "source": [
        "crime"
      ]
    },
    {
      "cell_type": "code",
      "metadata": {
        "id": "1sRh8KjLkuBg",
        "colab_type": "code",
        "colab": {}
      },
      "source": [
        "def func(y):\n",
        "    if y == 147:\n",
        "        return '3350'\n",
        "    elif y == 125:\n",
        "        return '23059'\n",
        "    elif y == 99:\n",
        "        return '14741'\n",
        "    elif y == 161:\n",
        "        return '6372'\n",
        "    elif y == 93:\n",
        "        return '1815'\n",
        "    elif y == 115:\n",
        "        return '2725'\n",
        "    elif y == 163:\n",
        "        return '44179'  \n",
        "\n",
        "df['crime'] = df['COUNTYL'].apply(func)"
      ],
      "execution_count": 0,
      "outputs": []
    },
    {
      "cell_type": "markdown",
      "metadata": {
        "id": "OxEQK7VKDcHw",
        "colab_type": "text"
      },
      "source": [
        "education"
      ]
    },
    {
      "cell_type": "code",
      "metadata": {
        "id": "ub_RASUeCrY5",
        "colab_type": "code",
        "colab": {}
      },
      "source": [
        "def func(y):\n",
        "    if y == 147:\n",
        "        return '108322'\n",
        "    elif y == 125:\n",
        "        return '682505'\n",
        "    elif y == 99:\n",
        "        return '516104'\n",
        "    elif y == 161:\n",
        "        return '177638'\n",
        "    elif y == 93:\n",
        "        return '130804'\n",
        "    elif y == 115:\n",
        "        return '101171'\n",
        "    elif y == 163:\n",
        "        return '662371'  \n",
        "\n",
        "df['edu'] = df['COUNTYL'].apply(func)"
      ],
      "execution_count": 0,
      "outputs": []
    },
    {
      "cell_type": "markdown",
      "metadata": {
        "id": "40zGIVZOExH1",
        "colab_type": "text"
      },
      "source": [
        "income"
      ]
    },
    {
      "cell_type": "code",
      "metadata": {
        "id": "LGYHlkftEXWO",
        "colab_type": "code",
        "colab": {}
      },
      "source": [
        "def func(y):\n",
        "    if y == 147:\n",
        "        return '57170'\n",
        "    elif y == 125:\n",
        "        return '83297'\n",
        "    elif y == 99:\n",
        "        return '63977'\n",
        "    elif y == 161:\n",
        "        return '77059'\n",
        "    elif y == 93:\n",
        "        return '82934'\n",
        "    elif y == 115:\n",
        "        return '62214'\n",
        "    elif y == 163:\n",
        "        return '60709'  \n",
        "\n",
        "df['inc'] = df['COUNTYL'].apply(func)"
      ],
      "execution_count": 0,
      "outputs": []
    },
    {
      "cell_type": "code",
      "metadata": {
        "id": "EJHzKGwpaa1c",
        "colab_type": "code",
        "outputId": "455f4dad-bc48-49e1-eea2-faf78161f605",
        "colab": {
          "base_uri": "https://localhost:8080/",
          "height": 402
        }
      },
      "source": [
        "df"
      ],
      "execution_count": 0,
      "outputs": [
        {
          "output_type": "execute_result",
          "data": {
            "text/html": [
              "<div>\n",
              "<style scoped>\n",
              "    .dataframe tbody tr th:only-of-type {\n",
              "        vertical-align: middle;\n",
              "    }\n",
              "\n",
              "    .dataframe tbody tr th {\n",
              "        vertical-align: top;\n",
              "    }\n",
              "\n",
              "    .dataframe thead th {\n",
              "        text-align: right;\n",
              "    }\n",
              "</style>\n",
              "<table border=\"1\" class=\"dataframe\">\n",
              "  <thead>\n",
              "    <tr style=\"text-align: right;\">\n",
              "      <th></th>\n",
              "      <th>OBJECTID</th>\n",
              "      <th>COUNTYL</th>\n",
              "      <th>PASER</th>\n",
              "      <th>con</th>\n",
              "      <th>crime</th>\n",
              "      <th>edu</th>\n",
              "      <th>inc</th>\n",
              "    </tr>\n",
              "  </thead>\n",
              "  <tbody>\n",
              "    <tr>\n",
              "      <th>0</th>\n",
              "      <td>4828</td>\n",
              "      <td>125</td>\n",
              "      <td>3</td>\n",
              "      <td>1</td>\n",
              "      <td>23059</td>\n",
              "      <td>682505</td>\n",
              "      <td>83297</td>\n",
              "    </tr>\n",
              "    <tr>\n",
              "      <th>1</th>\n",
              "      <td>3463</td>\n",
              "      <td>125</td>\n",
              "      <td>3</td>\n",
              "      <td>1</td>\n",
              "      <td>23059</td>\n",
              "      <td>682505</td>\n",
              "      <td>83297</td>\n",
              "    </tr>\n",
              "    <tr>\n",
              "      <th>2</th>\n",
              "      <td>1595</td>\n",
              "      <td>125</td>\n",
              "      <td>5</td>\n",
              "      <td>2</td>\n",
              "      <td>23059</td>\n",
              "      <td>682505</td>\n",
              "      <td>83297</td>\n",
              "    </tr>\n",
              "    <tr>\n",
              "      <th>3</th>\n",
              "      <td>3108</td>\n",
              "      <td>125</td>\n",
              "      <td>3</td>\n",
              "      <td>1</td>\n",
              "      <td>23059</td>\n",
              "      <td>682505</td>\n",
              "      <td>83297</td>\n",
              "    </tr>\n",
              "    <tr>\n",
              "      <th>4</th>\n",
              "      <td>3470</td>\n",
              "      <td>125</td>\n",
              "      <td>3</td>\n",
              "      <td>1</td>\n",
              "      <td>23059</td>\n",
              "      <td>682505</td>\n",
              "      <td>83297</td>\n",
              "    </tr>\n",
              "    <tr>\n",
              "      <th>...</th>\n",
              "      <td>...</td>\n",
              "      <td>...</td>\n",
              "      <td>...</td>\n",
              "      <td>...</td>\n",
              "      <td>...</td>\n",
              "      <td>...</td>\n",
              "      <td>...</td>\n",
              "    </tr>\n",
              "    <tr>\n",
              "      <th>77138</th>\n",
              "      <td>209665</td>\n",
              "      <td>163</td>\n",
              "      <td>7</td>\n",
              "      <td>2</td>\n",
              "      <td>44179</td>\n",
              "      <td>662371</td>\n",
              "      <td>60709</td>\n",
              "    </tr>\n",
              "    <tr>\n",
              "      <th>77139</th>\n",
              "      <td>208344</td>\n",
              "      <td>163</td>\n",
              "      <td>7</td>\n",
              "      <td>2</td>\n",
              "      <td>44179</td>\n",
              "      <td>662371</td>\n",
              "      <td>60709</td>\n",
              "    </tr>\n",
              "    <tr>\n",
              "      <th>77140</th>\n",
              "      <td>209006</td>\n",
              "      <td>99</td>\n",
              "      <td>9</td>\n",
              "      <td>3</td>\n",
              "      <td>14741</td>\n",
              "      <td>516104</td>\n",
              "      <td>63977</td>\n",
              "    </tr>\n",
              "    <tr>\n",
              "      <th>77141</th>\n",
              "      <td>208954</td>\n",
              "      <td>163</td>\n",
              "      <td>6</td>\n",
              "      <td>2</td>\n",
              "      <td>44179</td>\n",
              "      <td>662371</td>\n",
              "      <td>60709</td>\n",
              "    </tr>\n",
              "    <tr>\n",
              "      <th>77142</th>\n",
              "      <td>208734</td>\n",
              "      <td>125</td>\n",
              "      <td>8</td>\n",
              "      <td>3</td>\n",
              "      <td>23059</td>\n",
              "      <td>682505</td>\n",
              "      <td>83297</td>\n",
              "    </tr>\n",
              "  </tbody>\n",
              "</table>\n",
              "<p>77143 rows × 7 columns</p>\n",
              "</div>"
            ],
            "text/plain": [
              "       OBJECTID  COUNTYL  PASER con  crime     edu    inc\n",
              "0          4828      125      3   1  23059  682505  83297\n",
              "1          3463      125      3   1  23059  682505  83297\n",
              "2          1595      125      5   2  23059  682505  83297\n",
              "3          3108      125      3   1  23059  682505  83297\n",
              "4          3470      125      3   1  23059  682505  83297\n",
              "...         ...      ...    ...  ..    ...     ...    ...\n",
              "77138    209665      163      7   2  44179  662371  60709\n",
              "77139    208344      163      7   2  44179  662371  60709\n",
              "77140    209006       99      9   3  14741  516104  63977\n",
              "77141    208954      163      6   2  44179  662371  60709\n",
              "77142    208734      125      8   3  23059  682505  83297\n",
              "\n",
              "[77143 rows x 7 columns]"
            ]
          },
          "metadata": {
            "tags": []
          },
          "execution_count": 8
        }
      ]
    },
    {
      "cell_type": "code",
      "metadata": {
        "id": "WAx_vSHTWf4A",
        "colab_type": "code",
        "colab": {}
      },
      "source": [
        "feat = ['inc', 'edu','crime']\n",
        "x = df[feat]\n",
        "y = df.con"
      ],
      "execution_count": 0,
      "outputs": []
    },
    {
      "cell_type": "code",
      "metadata": {
        "id": "JXgJCXikhicL",
        "colab_type": "code",
        "colab": {}
      },
      "source": [
        "X_train,X_test,y_train,y_test=train_test_split(x,y,test_size=0.25,random_state=0)"
      ],
      "execution_count": 0,
      "outputs": []
    },
    {
      "cell_type": "markdown",
      "metadata": {
        "id": "H4ashqc7Wd7e",
        "colab_type": "text"
      },
      "source": [
        "**MNLogit model**"
      ]
    },
    {
      "cell_type": "markdown",
      "metadata": {
        "id": "6lH4kOrJgDXY",
        "colab_type": "text"
      },
      "source": [
        "1) statsmodels"
      ]
    },
    {
      "cell_type": "code",
      "metadata": {
        "id": "KfMbroPKlLrb",
        "colab_type": "code",
        "colab": {}
      },
      "source": [
        "y = np.array(df.con)\n",
        "x = np.array(df[feat])"
      ],
      "execution_count": 0,
      "outputs": []
    },
    {
      "cell_type": "code",
      "metadata": {
        "id": "hSOy7jv6mGlr",
        "colab_type": "code",
        "outputId": "93039f21-f153-4470-ccae-715948557c20",
        "colab": {
          "base_uri": "https://localhost:8080/",
          "height": 432
        }
      },
      "source": [
        "import statsmodels.api as sm\n",
        "\n",
        "log = sm.MNLogit(y_train.astype(float),sm.add_constant(X_train).astype(float))\n",
        "res = log.fit()\n",
        "res.summary2()"
      ],
      "execution_count": 0,
      "outputs": [
        {
          "output_type": "stream",
          "text": [
            "Optimization terminated successfully.\n",
            "         Current function value: 1.021937\n",
            "         Iterations 5\n"
          ],
          "name": "stdout"
        },
        {
          "output_type": "execute_result",
          "data": {
            "text/html": [
              "<table class=\"simpletable\">\n",
              "<tr>\n",
              "        <td>Model:</td>             <td>MNLogit</td>     <td>Pseudo R-squared:</td>    <td>0.015</td>   \n",
              "</tr>\n",
              "<tr>\n",
              "  <td>Dependent Variable:</td>        <td>con</td>             <td>AIC:</td>        <td>118268.4494</td>\n",
              "</tr>\n",
              "<tr>\n",
              "         <td>Date:</td>        <td>2020-06-05 21:56</td>       <td>BIC:</td>        <td>118340.1752</td>\n",
              "</tr>\n",
              "<tr>\n",
              "   <td>No. Observations:</td>        <td>57857</td>       <td>Log-Likelihood:</td>    <td>-59126.</td>  \n",
              "</tr>\n",
              "<tr>\n",
              "       <td>Df Model:</td>              <td>6</td>            <td>LL-Null:</td>        <td>-60015.</td>  \n",
              "</tr>\n",
              "<tr>\n",
              "     <td>Df Residuals:</td>          <td>57849</td>        <td>LLR p-value:</td>      <td>0.0000</td>   \n",
              "</tr>\n",
              "<tr>\n",
              "      <td>Converged:</td>           <td>1.0000</td>           <td>Scale:</td>         <td>1.0000</td>   \n",
              "</tr>\n",
              "<tr>\n",
              "    <td>No. Iterations:</td>        <td>5.0000</td>              <td></td>               <td></td>      \n",
              "</tr>\n",
              "</table>\n",
              "<table class=\"simpletable\">\n",
              "<tr>\n",
              "  <th>con = 0</th>  <th>Coef.</th>  <th>Std.Err.</th>     <th>t</th>     <th>P>|t|</th> <th>[0.025</th>  <th>0.975]</th> \n",
              "</tr>\n",
              "<tr>\n",
              "   <td>const</td>  <td>-0.9973</td>  <td>0.0840</td>  <td>-11.8782</td> <td>0.0000</td> <td>-1.1619</td> <td>-0.8328</td>\n",
              "</tr>\n",
              "<tr>\n",
              "    <td>inc</td>   <td>0.0000</td>   <td>0.0000</td>   <td>10.6564</td> <td>0.0000</td> <td>0.0000</td>  <td>0.0000</td> \n",
              "</tr>\n",
              "<tr>\n",
              "    <td>edu</td>   <td>-0.0000</td>  <td>0.0000</td>  <td>-19.4509</td> <td>0.0000</td> <td>-0.0000</td> <td>-0.0000</td>\n",
              "</tr>\n",
              "<tr>\n",
              "   <td>crime</td>  <td>0.0000</td>   <td>0.0000</td>   <td>19.8053</td> <td>0.0000</td> <td>0.0000</td>  <td>0.0000</td> \n",
              "</tr>\n",
              "</table>\n",
              "<table class=\"simpletable\">\n",
              "<tr>\n",
              "  <th>con = 1</th>  <th>Coef.</th>  <th>Std.Err.</th>     <th>t</th>     <th>P>|t|</th> <th>[0.025</th>  <th>0.975]</th> \n",
              "</tr>\n",
              "<tr>\n",
              "   <td>const</td>  <td>-2.3627</td>  <td>0.0971</td>  <td>-24.3314</td> <td>0.0000</td> <td>-2.5530</td> <td>-2.1724</td>\n",
              "</tr>\n",
              "<tr>\n",
              "    <td>inc</td>   <td>0.0000</td>   <td>0.0000</td>   <td>22.9641</td> <td>0.0000</td> <td>0.0000</td>  <td>0.0000</td> \n",
              "</tr>\n",
              "<tr>\n",
              "    <td>edu</td>   <td>-0.0000</td>  <td>0.0000</td>  <td>-23.6705</td> <td>0.0000</td> <td>-0.0000</td> <td>-0.0000</td>\n",
              "</tr>\n",
              "<tr>\n",
              "   <td>crime</td>  <td>0.0000</td>   <td>0.0000</td>   <td>10.8241</td> <td>0.0000</td> <td>0.0000</td>  <td>0.0000</td> \n",
              "</tr>\n",
              "</table>"
            ],
            "text/plain": [
              "<class 'statsmodels.iolib.summary2.Summary'>\n",
              "\"\"\"\n",
              "                         Results: MNLogit\n",
              "==================================================================\n",
              "Model:              MNLogit          Pseudo R-squared: 0.015      \n",
              "Dependent Variable: con              AIC:              118268.4494\n",
              "Date:               2020-06-05 21:56 BIC:              118340.1752\n",
              "No. Observations:   57857            Log-Likelihood:   -59126.    \n",
              "Df Model:           6                LL-Null:          -60015.    \n",
              "Df Residuals:       57849            LLR p-value:      0.0000     \n",
              "Converged:          1.0000           Scale:            1.0000     \n",
              "No. Iterations:     5.0000                                        \n",
              "----------------------------------------------------------------\n",
              " con = 0    Coef.   Std.Err.     t      P>|t|    [0.025   0.975]\n",
              "----------------------------------------------------------------\n",
              "const      -0.9973    0.0840  -11.8782  0.0000  -1.1619  -0.8328\n",
              "  inc       0.0000    0.0000   10.6564  0.0000   0.0000   0.0000\n",
              "  edu      -0.0000    0.0000  -19.4509  0.0000  -0.0000  -0.0000\n",
              "crime       0.0000    0.0000   19.8053  0.0000   0.0000   0.0000\n",
              "----------------------------------------------------------------\n",
              " con = 1    Coef.   Std.Err.     t      P>|t|    [0.025   0.975]\n",
              "----------------------------------------------------------------\n",
              "const      -2.3627    0.0971  -24.3314  0.0000  -2.5530  -2.1724\n",
              "  inc       0.0000    0.0000   22.9641  0.0000   0.0000   0.0000\n",
              "  edu      -0.0000    0.0000  -23.6705  0.0000  -0.0000  -0.0000\n",
              "crime       0.0000    0.0000   10.8241  0.0000   0.0000   0.0000\n",
              "==================================================================\n",
              "\n",
              "\"\"\""
            ]
          },
          "metadata": {
            "tags": []
          },
          "execution_count": 29
        }
      ]
    },
    {
      "cell_type": "markdown",
      "metadata": {
        "id": "hXcMMt4udUnJ",
        "colab_type": "text"
      },
      "source": [
        "2) Pandas"
      ]
    },
    {
      "cell_type": "code",
      "metadata": {
        "id": "Mj1NIz_DJkmh",
        "colab_type": "code",
        "colab": {}
      },
      "source": [
        "mod = LogisticRegression(multi_class='multinomial').fit(X_train,y_train)"
      ],
      "execution_count": 0,
      "outputs": []
    },
    {
      "cell_type": "code",
      "metadata": {
        "id": "x_WB0YF5kMOw",
        "colab_type": "code",
        "outputId": "aad9c7ec-8c39-48a7-f61d-ccc7aa15b52a",
        "colab": {
          "base_uri": "https://localhost:8080/",
          "height": 171
        }
      },
      "source": [
        "#res = mod.fit(X_train,y_train)\n",
        "ypred = mod.predict(X_test)\n",
        "print(mod.decision_function(X_test))"
      ],
      "execution_count": 0,
      "outputs": [
        {
          "output_type": "stream",
          "text": [
            "[[ 0.46194277  0.26832544 -0.73026821]\n",
            " [ 0.18206101 -0.01305866 -0.16900235]\n",
            " [ 0.18206101 -0.01305866 -0.16900235]\n",
            " ...\n",
            " [ 0.16169623 -0.05254478 -0.10915145]\n",
            " [ 0.46194277  0.26832544 -0.73026821]\n",
            " [ 0.18206101 -0.01305866 -0.16900235]]\n",
            "{'C': 1.0, 'class_weight': None, 'dual': False, 'fit_intercept': True, 'intercept_scaling': 1, 'l1_ratio': None, 'max_iter': 100, 'multi_class': 'multinomial', 'n_jobs': None, 'penalty': 'l2', 'random_state': None, 'solver': 'lbfgs', 'tol': 0.0001, 'verbose': 0, 'warm_start': False}\n"
          ],
          "name": "stdout"
        }
      ]
    },
    {
      "cell_type": "code",
      "metadata": {
        "id": "Uef-RtPverMp",
        "colab_type": "code",
        "outputId": "1634fc77-56ec-49f1-957f-80dd4ee0adb9",
        "colab": {
          "base_uri": "https://localhost:8080/",
          "height": 34
        }
      },
      "source": [
        "mod.score(X_test,y_test)"
      ],
      "execution_count": 0,
      "outputs": [
        {
          "output_type": "execute_result",
          "data": {
            "text/plain": [
              "0.46982266929378824"
            ]
          },
          "metadata": {
            "tags": []
          },
          "execution_count": 22
        }
      ]
    },
    {
      "cell_type": "code",
      "metadata": {
        "id": "MO70V_2PVc9k",
        "colab_type": "code",
        "outputId": "e20a037f-399e-499c-87e2-5f589d79a975",
        "colab": {
          "base_uri": "https://localhost:8080/",
          "height": 67
        }
      },
      "source": [
        "from sklearn import metrics\n",
        "cnf_matrix = metrics.confusion_matrix(y_test, ypred)\n",
        "cnf_matrix\n",
        "#metrics.accuracy_score(y_test, ypred)"
      ],
      "execution_count": 0,
      "outputs": [
        {
          "output_type": "execute_result",
          "data": {
            "text/plain": [
              "array([[9061,    0,    0],\n",
              "       [6509,    0,    0],\n",
              "       [3716,    0,    0]])"
            ]
          },
          "metadata": {
            "tags": []
          },
          "execution_count": 27
        }
      ]
    },
    {
      "cell_type": "code",
      "metadata": {
        "id": "sq-XBs4jWmkS",
        "colab_type": "code",
        "colab": {}
      },
      "source": [
        "import matplotlib.pyplot as plt\n",
        "import seaborn as sns\n",
        "%matplotlib inline"
      ],
      "execution_count": 0,
      "outputs": []
    },
    {
      "cell_type": "code",
      "metadata": {
        "id": "MYs8jZvlWnpN",
        "colab_type": "code",
        "outputId": "813dcb37-4099-4024-eaf1-737c94f4afad",
        "colab": {
          "base_uri": "https://localhost:8080/",
          "height": 342
        }
      },
      "source": [
        "class_names=[1,2] # name  of classes\n",
        "fig, ax = plt.subplots()\n",
        "tick_marks = np.arange(len(class_names))\n",
        "plt.xticks(tick_marks, class_names)\n",
        "plt.yticks(tick_marks, class_names)\n",
        "# create heatmap\n",
        "sns.heatmap(pd.DataFrame(cnf_matrix), annot=True, cmap=\"YlGnBu\" ,fmt='g')\n",
        "ax.xaxis.set_label_position(\"top\")\n",
        "plt.tight_layout()\n",
        "plt.title('Confusion matrix', y=1.1)\n",
        "plt.ylabel('Actual label')\n",
        "plt.xlabel('Predicted label')"
      ],
      "execution_count": 0,
      "outputs": [
        {
          "output_type": "execute_result",
          "data": {
            "text/plain": [
              "Text(0.5, 257.44, 'Predicted label')"
            ]
          },
          "metadata": {
            "tags": []
          },
          "execution_count": 25
        },
        {
          "output_type": "display_data",
          "data": {
            "image/png": "[encoded data removed]",
            "text/plain": [
              "<Figure size 432x288 with 2 Axes>"
            ]
          },
          "metadata": {
            "tags": [],
            "needs_background": "light"
          }
        }
      ]
    },
    {
      "cell_type": "markdown",
      "metadata": {
        "id": "33W6U4A6fd36",
        "colab_type": "text"
      },
      "source": [
        "**OLS model**"
      ]
    },
    {
      "cell_type": "code",
      "metadata": {
        "id": "rVl_yBZYhfjq",
        "colab_type": "code",
        "colab": {}
      },
      "source": [
        "logy = np.log((df.con).astype(float))\n",
        "olsx = np.array(df[feat]).astype(float)\n",
        "X_train,X_test,y_train,y_test=train_test_split(olsx,logy,test_size=0.25,random_state=0)"
      ],
      "execution_count": 0,
      "outputs": []
    },
    {
      "cell_type": "code",
      "metadata": {
        "id": "HO2QHq2Efdcl",
        "colab_type": "code",
        "outputId": "9b8a3036-60ef-4dca-9cfa-c43c7610dfb0",
        "colab": {
          "base_uri": "https://localhost:8080/",
          "height": 342
        }
      },
      "source": [
        "omod = sm.OLS(y_train,sm.add_constant(X_train))\n",
        "ores = omod.fit()\n",
        "ores.summary2()"
      ],
      "execution_count": 0,
      "outputs": [
        {
          "output_type": "execute_result",
          "data": {
            "text/html": [
              "<table class=\"simpletable\">\n",
              "<tr>\n",
              "        <td>Model:</td>               <td>OLS</td>         <td>Adj. R-squared:</td>      <td>0.020</td>  \n",
              "</tr>\n",
              "<tr>\n",
              "  <td>Dependent Variable:</td>        <td>con</td>              <td>AIC:</td>         <td>68852.1621</td>\n",
              "</tr>\n",
              "<tr>\n",
              "         <td>Date:</td>        <td>2020-06-05 22:14</td>        <td>BIC:</td>         <td>68888.0250</td>\n",
              "</tr>\n",
              "<tr>\n",
              "   <td>No. Observations:</td>        <td>57857</td>        <td>Log-Likelihood:</td>     <td>-34422.</td> \n",
              "</tr>\n",
              "<tr>\n",
              "       <td>Df Model:</td>              <td>3</td>           <td>F-statistic:</td>        <td>398.3</td>  \n",
              "</tr>\n",
              "<tr>\n",
              "     <td>Df Residuals:</td>          <td>57853</td>      <td>Prob (F-statistic):</td>  <td>4.07e-256</td>\n",
              "</tr>\n",
              "<tr>\n",
              "      <td>R-squared:</td>            <td>0.020</td>            <td>Scale:</td>          <td>0.19245</td> \n",
              "</tr>\n",
              "</table>\n",
              "<table class=\"simpletable\">\n",
              "<tr>\n",
              "    <td></td>     <th>Coef.</th>  <th>Std.Err.</th>     <th>t</th>     <th>P>|t|</th> <th>[0.025</th>  <th>0.975]</th> \n",
              "</tr>\n",
              "<tr>\n",
              "  <th>const</th> <td>0.1962</td>   <td>0.0159</td>   <td>12.3164</td> <td>0.0000</td> <td>0.1650</td>  <td>0.2274</td> \n",
              "</tr>\n",
              "<tr>\n",
              "  <th>x1</th>    <td>0.0000</td>   <td>0.0000</td>   <td>23.3604</td> <td>0.0000</td> <td>0.0000</td>  <td>0.0000</td> \n",
              "</tr>\n",
              "<tr>\n",
              "  <th>x2</th>    <td>-0.0000</td>  <td>0.0000</td>  <td>-28.9459</td> <td>0.0000</td> <td>-0.0000</td> <td>-0.0000</td>\n",
              "</tr>\n",
              "<tr>\n",
              "  <th>x3</th>    <td>0.0000</td>   <td>0.0000</td>   <td>19.3378</td> <td>0.0000</td> <td>0.0000</td>  <td>0.0000</td> \n",
              "</tr>\n",
              "</table>\n",
              "<table class=\"simpletable\">\n",
              "<tr>\n",
              "     <td>Omnibus:</td>    <td>331376.752</td>  <td>Durbin-Watson:</td>     <td>2.000</td> \n",
              "</tr>\n",
              "<tr>\n",
              "  <td>Prob(Omnibus):</td>    <td>0.000</td>   <td>Jarque-Bera (JB):</td> <td>5931.772</td>\n",
              "</tr>\n",
              "<tr>\n",
              "       <td>Skew:</td>        <td>0.194</td>       <td>Prob(JB):</td>       <td>0.000</td> \n",
              "</tr>\n",
              "<tr>\n",
              "     <td>Kurtosis:</td>      <td>1.480</td>    <td>Condition No.:</td>    <td>4858726</td>\n",
              "</tr>\n",
              "</table>"
            ],
            "text/plain": [
              "<class 'statsmodels.iolib.summary2.Summary'>\n",
              "\"\"\"\n",
              "                  Results: Ordinary least squares\n",
              "===================================================================\n",
              "Model:              OLS              Adj. R-squared:     0.020     \n",
              "Dependent Variable: con              AIC:                68852.1621\n",
              "Date:               2020-06-05 22:14 BIC:                68888.0250\n",
              "No. Observations:   57857            Log-Likelihood:     -34422.   \n",
              "Df Model:           3                F-statistic:        398.3     \n",
              "Df Residuals:       57853            Prob (F-statistic): 4.07e-256 \n",
              "R-squared:          0.020            Scale:              0.19245   \n",
              "---------------------------------------------------------------------\n",
              "            Coef.    Std.Err.      t       P>|t|     [0.025    0.975]\n",
              "---------------------------------------------------------------------\n",
              "const       0.1962     0.0159    12.3164   0.0000    0.1650    0.2274\n",
              "x1          0.0000     0.0000    23.3604   0.0000    0.0000    0.0000\n",
              "x2         -0.0000     0.0000   -28.9459   0.0000   -0.0000   -0.0000\n",
              "x3          0.0000     0.0000    19.3378   0.0000    0.0000    0.0000\n",
              "-------------------------------------------------------------------\n",
              "Omnibus:            331376.752      Durbin-Watson:         2.000   \n",
              "Prob(Omnibus):      0.000           Jarque-Bera (JB):      5931.772\n",
              "Skew:               0.194           Prob(JB):              0.000   \n",
              "Kurtosis:           1.480           Condition No.:         4858726 \n",
              "===================================================================\n",
              "* The condition number is large (5e+06). This might indicate\n",
              "strong multicollinearity or other numerical problems.\n",
              "\"\"\""
            ]
          },
          "metadata": {
            "tags": []
          },
          "execution_count": 46
        }
      ]
    }
  ]
}